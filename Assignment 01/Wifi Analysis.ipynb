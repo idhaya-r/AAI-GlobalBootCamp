{
 "cells": [
  {
   "cell_type": "code",
   "execution_count": 1,
   "id": "6ef36f1a",
   "metadata": {},
   "outputs": [],
   "source": [
    "import pandas as pd\n",
    "import numpy as np\n",
    "import seaborn as sns\n",
    "import matplotlib.pyplot as plt"
   ]
  },
  {
   "cell_type": "code",
   "execution_count": 2,
   "id": "68d5289c",
   "metadata": {},
   "outputs": [],
   "source": [
    "wifi_df = pd.read_excel(\"./Datasets/Wifi Data.xlsx\")"
   ]
  },
  {
   "cell_type": "code",
   "execution_count": 3,
   "id": "41f31c67",
   "metadata": {},
   "outputs": [
    {
     "data": {
      "text/html": [
       "<div>\n",
       "<style scoped>\n",
       "    .dataframe tbody tr th:only-of-type {\n",
       "        vertical-align: middle;\n",
       "    }\n",
       "\n",
       "    .dataframe tbody tr th {\n",
       "        vertical-align: top;\n",
       "    }\n",
       "\n",
       "    .dataframe thead th {\n",
       "        text-align: right;\n",
       "    }\n",
       "</style>\n",
       "<table border=\"1\" class=\"dataframe\">\n",
       "  <thead>\n",
       "    <tr style=\"text-align: right;\">\n",
       "      <th></th>\n",
       "      <th>OBJECTID</th>\n",
       "      <th>Borough</th>\n",
       "      <th>Type</th>\n",
       "      <th>Provider</th>\n",
       "      <th>Latitude</th>\n",
       "      <th>Longitude</th>\n",
       "      <th>Location_T</th>\n",
       "      <th>City</th>\n",
       "      <th>BoroCode</th>\n",
       "      <th>NTACode</th>\n",
       "    </tr>\n",
       "  </thead>\n",
       "  <tbody>\n",
       "    <tr>\n",
       "      <th>0</th>\n",
       "      <td>1</td>\n",
       "      <td>BK</td>\n",
       "      <td>Limited Free</td>\n",
       "      <td>ALTICEUSA</td>\n",
       "      <td>40.65831</td>\n",
       "      <td>-73.94406</td>\n",
       "      <td>Outdoor</td>\n",
       "      <td>Brooklyn</td>\n",
       "      <td>3</td>\n",
       "      <td>BK60</td>\n",
       "    </tr>\n",
       "    <tr>\n",
       "      <th>1</th>\n",
       "      <td>2</td>\n",
       "      <td>BK</td>\n",
       "      <td>Limited Free</td>\n",
       "      <td>ALTICEUSA</td>\n",
       "      <td>40.65800</td>\n",
       "      <td>-73.94723</td>\n",
       "      <td>Outdoor</td>\n",
       "      <td>Brooklyn</td>\n",
       "      <td>3</td>\n",
       "      <td>BK60</td>\n",
       "    </tr>\n",
       "    <tr>\n",
       "      <th>2</th>\n",
       "      <td>3</td>\n",
       "      <td>BK</td>\n",
       "      <td>Limited Free</td>\n",
       "      <td>ALTICEUSA</td>\n",
       "      <td>40.65800</td>\n",
       "      <td>-73.94723</td>\n",
       "      <td>Outdoor</td>\n",
       "      <td>Brooklyn</td>\n",
       "      <td>3</td>\n",
       "      <td>BK60</td>\n",
       "    </tr>\n",
       "    <tr>\n",
       "      <th>3</th>\n",
       "      <td>4</td>\n",
       "      <td>BK</td>\n",
       "      <td>Limited Free</td>\n",
       "      <td>ALTICEUSA</td>\n",
       "      <td>40.65743</td>\n",
       "      <td>-73.94716</td>\n",
       "      <td>Outdoor</td>\n",
       "      <td>Brooklyn</td>\n",
       "      <td>3</td>\n",
       "      <td>BK60</td>\n",
       "    </tr>\n",
       "    <tr>\n",
       "      <th>4</th>\n",
       "      <td>5</td>\n",
       "      <td>BK</td>\n",
       "      <td>Limited Free</td>\n",
       "      <td>ALTICEUSA</td>\n",
       "      <td>40.65743</td>\n",
       "      <td>-73.94716</td>\n",
       "      <td>Outdoor</td>\n",
       "      <td>Brooklyn</td>\n",
       "      <td>3</td>\n",
       "      <td>BK60</td>\n",
       "    </tr>\n",
       "  </tbody>\n",
       "</table>\n",
       "</div>"
      ],
      "text/plain": [
       "   OBJECTID Borough          Type   Provider  Latitude  Longitude Location_T  \\\n",
       "0         1      BK  Limited Free  ALTICEUSA  40.65831  -73.94406    Outdoor   \n",
       "1         2      BK  Limited Free  ALTICEUSA  40.65800  -73.94723    Outdoor   \n",
       "2         3      BK  Limited Free  ALTICEUSA  40.65800  -73.94723    Outdoor   \n",
       "3         4      BK  Limited Free  ALTICEUSA  40.65743  -73.94716    Outdoor   \n",
       "4         5      BK  Limited Free  ALTICEUSA  40.65743  -73.94716    Outdoor   \n",
       "\n",
       "       City  BoroCode NTACode  \n",
       "0  Brooklyn         3    BK60  \n",
       "1  Brooklyn         3    BK60  \n",
       "2  Brooklyn         3    BK60  \n",
       "3  Brooklyn         3    BK60  \n",
       "4  Brooklyn         3    BK60  "
      ]
     },
     "execution_count": 3,
     "metadata": {},
     "output_type": "execute_result"
    }
   ],
   "source": [
    "wifi_df.head()"
   ]
  },
  {
   "cell_type": "code",
   "execution_count": 4,
   "id": "a10781cd",
   "metadata": {},
   "outputs": [],
   "source": [
    "wifi_df['OBJECTID'].nunique()\n",
    "wifi_df.drop(['OBJECTID'],inplace=True,axis=1)\n",
    "# Dropping object id as each row has a unique value and it is not providing any useful information for analysis."
   ]
  },
  {
   "cell_type": "code",
   "execution_count": 5,
   "id": "7e54bd33",
   "metadata": {},
   "outputs": [
    {
     "name": "stdout",
     "output_type": "stream",
     "text": [
      "MN    1204\n",
      "BK     595\n",
      "QU     415\n",
      "BX     257\n",
      "SI      95\n",
      "Name: Borough, dtype: int64\n",
      "Free            1983\n",
      "Limited Free     581\n",
      "Partner Site       2\n",
      "Name: Type, dtype: int64\n",
      "LinkNYC - Citybridge       1134\n",
      "SPECTRUM                    343\n",
      "Transit Wireless            276\n",
      "ALTICEUSA                   237\n",
      "Harlem                      128\n",
      "Downtown Brooklyn           100\n",
      "NYPL                         90\n",
      "QPL                          65\n",
      "BPL                          59\n",
      "Manhattan Down Alliance      36\n",
      "Chelsea                      30\n",
      "NYCHA                        28\n",
      "AT&T                         27\n",
      "City Tech                    11\n",
      "Partner                       2\n",
      "Name: Provider, dtype: int64\n",
      "40.687191    14\n",
      "40.812681     8\n",
      "40.710250     8\n",
      "40.693636     7\n",
      "40.690883     7\n",
      "             ..\n",
      "40.570195     1\n",
      "40.571268     1\n",
      "40.572313     1\n",
      "40.573338     1\n",
      "40.775443     1\n",
      "Name: Latitude, Length: 2390, dtype: int64\n",
      "-73.769559    14\n",
      "-73.939357     8\n",
      "-73.997980     8\n",
      "-73.914138     7\n",
      "-73.987162     7\n",
      "              ..\n",
      "-74.006803     1\n",
      "-74.003402     1\n",
      "-74.001718     1\n",
      "-74.005215     1\n",
      "-73.982367     1\n",
      "Name: Longitude, Length: 2375, dtype: int64\n",
      "Outdoor Kiosk         1134\n",
      "Outdoor                696\n",
      "Subway Station         276\n",
      "Library                214\n",
      "Indoor                 125\n",
      "Outdoor TWC Aerial     121\n",
      "Name: Location_T, dtype: int64\n",
      "New York            1204\n",
      "Brooklyn             595\n",
      "Queens               350\n",
      "Bronx                257\n",
      "Staten Island         95\n",
      "Flushing               9\n",
      "Long Island City       8\n",
      "Jamaica                5\n",
      "Corona                 3\n",
      "Bayside                3\n",
      "Little Neck            2\n",
      "Forest Hills           2\n",
      "Richmond Hill          2\n",
      "Queens Village         1\n",
      "Far Rockaway           1\n",
      "Glen Oaks              1\n",
      "Glendale               1\n",
      "Woodside               1\n",
      "Howard Beach           1\n",
      "Ridgewood              1\n",
      "Broad Channel          1\n",
      "Rockaway Beach         1\n",
      "South Ozone Park       1\n",
      "Ozone Park             1\n",
      "Rockaway Park          1\n",
      "Middle Village         1\n",
      "Saint Albans           1\n",
      "Hollis                 1\n",
      "Bellerose              1\n",
      "Woodhaven              1\n",
      "East Elmhurst          1\n",
      "Maspeth                1\n",
      "Fresh Meadows          1\n",
      "Laurelton              1\n",
      "Arverne                1\n",
      "Cambria Heights        1\n",
      "Briarwood              1\n",
      "Whitestone             1\n",
      "Rego Park              1\n",
      "Jackson Heights        1\n",
      "South Hollis           1\n",
      "Rosedale               1\n",
      "College Point          1\n",
      "Elmhurst               1\n",
      "Name: City, dtype: int64\n",
      "1    1205\n",
      "3     593\n",
      "4     416\n",
      "2     257\n",
      "5      95\n",
      "Name: BoroCode, dtype: int64\n",
      "MN17    138\n",
      "BK38    119\n",
      "MN13    104\n",
      "MN03     99\n",
      "MN11     80\n",
      "       ... \n",
      "QN48      1\n",
      "BK19      1\n",
      "QN66      1\n",
      "QN38      1\n",
      "BX06      1\n",
      "Name: NTACode, Length: 178, dtype: int64\n"
     ]
    }
   ],
   "source": [
    "for col in wifi_df.columns:\n",
    "#     print('column',col)\n",
    "    print(wifi_df[col].value_counts())"
   ]
  },
  {
   "cell_type": "code",
   "execution_count": 6,
   "id": "0eac43e9",
   "metadata": {},
   "outputs": [],
   "source": [
    "## What is frequency distribution of features?"
   ]
  },
  {
   "cell_type": "markdown",
   "id": "28efa6af",
   "metadata": {},
   "source": [
    "2) Using appropriate data visualization answer the following:\n",
    "\n",
    "a. Plot the providers vs number of all wi-fi hotspots they have in operation? Who has the\n",
    "highest installations?\n"
   ]
  },
  {
   "cell_type": "code",
   "execution_count": 7,
   "id": "6f1016e4",
   "metadata": {},
   "outputs": [
    {
     "data": {
      "image/png": "[encoded data removed]",
      "text/plain": [
       "<Figure size 432x288 with 1 Axes>"
      ]
     },
     "metadata": {
      "needs_background": "light"
     },
     "output_type": "display_data"
    }
   ],
   "source": [
    "sns.countplot(x=wifi_df['Provider']).set(title = \"Providers vs number of wifi hotspots\")\n",
    "plt.xticks(rotation=90)\n",
    "plt.show()\n",
    "# plt.Title(\"Providers vs number of wifi hotspots\")"
   ]
  },
  {
   "cell_type": "code",
   "execution_count": 8,
   "id": "3e831e86",
   "metadata": {},
   "outputs": [
    {
     "name": "stdout",
     "output_type": "stream",
     "text": [
      "LinkNYC-Citybridge has the highest installations.\n"
     ]
    }
   ],
   "source": [
    "print(\"LinkNYC-Citybridge has the highest installations.\")"
   ]
  },
  {
   "cell_type": "markdown",
   "id": "8fccc07a",
   "metadata": {},
   "source": [
    "b. Plot providers vs number of free wifi hotspots.\n"
   ]
  },
  {
   "cell_type": "code",
   "execution_count": null,
   "id": "431c22c7",
   "metadata": {},
   "outputs": [],
   "source": []
  },
  {
   "cell_type": "code",
   "execution_count": 9,
   "id": "392e0af9",
   "metadata": {},
   "outputs": [],
   "source": [
    "# Fetch the free wifi hotspots by provider\n",
    "by_provider_free=wifi_df[wifi_df['Type']=='Free'].groupby(['Provider'])['Type'].count()"
   ]
  },
  {
   "cell_type": "code",
   "execution_count": 10,
   "id": "048e184a",
   "metadata": {},
   "outputs": [],
   "source": [
    "df_provider_free= pd.DataFrame({'Provider':by_provider_free.index,'Free hotspots':by_provider_free.values})"
   ]
  },
  {
   "cell_type": "code",
   "execution_count": 11,
   "id": "70dc251f",
   "metadata": {},
   "outputs": [
    {
     "data": {
      "text/html": [
       "<div>\n",
       "<style scoped>\n",
       "    .dataframe tbody tr th:only-of-type {\n",
       "        vertical-align: middle;\n",
       "    }\n",
       "\n",
       "    .dataframe tbody tr th {\n",
       "        vertical-align: top;\n",
       "    }\n",
       "\n",
       "    .dataframe thead th {\n",
       "        text-align: right;\n",
       "    }\n",
       "</style>\n",
       "<table border=\"1\" class=\"dataframe\">\n",
       "  <thead>\n",
       "    <tr style=\"text-align: right;\">\n",
       "      <th></th>\n",
       "      <th>Provider</th>\n",
       "      <th>Free hotspots</th>\n",
       "    </tr>\n",
       "  </thead>\n",
       "  <tbody>\n",
       "    <tr>\n",
       "      <th>0</th>\n",
       "      <td>AT&amp;T</td>\n",
       "      <td>26</td>\n",
       "    </tr>\n",
       "    <tr>\n",
       "      <th>1</th>\n",
       "      <td>BPL</td>\n",
       "      <td>59</td>\n",
       "    </tr>\n",
       "    <tr>\n",
       "      <th>2</th>\n",
       "      <td>Chelsea</td>\n",
       "      <td>30</td>\n",
       "    </tr>\n",
       "    <tr>\n",
       "      <th>3</th>\n",
       "      <td>City Tech</td>\n",
       "      <td>11</td>\n",
       "    </tr>\n",
       "    <tr>\n",
       "      <th>4</th>\n",
       "      <td>Downtown Brooklyn</td>\n",
       "      <td>100</td>\n",
       "    </tr>\n",
       "    <tr>\n",
       "      <th>5</th>\n",
       "      <td>Harlem</td>\n",
       "      <td>128</td>\n",
       "    </tr>\n",
       "    <tr>\n",
       "      <th>6</th>\n",
       "      <td>LinkNYC - Citybridge</td>\n",
       "      <td>1134</td>\n",
       "    </tr>\n",
       "    <tr>\n",
       "      <th>7</th>\n",
       "      <td>Manhattan Down Alliance</td>\n",
       "      <td>36</td>\n",
       "    </tr>\n",
       "    <tr>\n",
       "      <th>8</th>\n",
       "      <td>NYCHA</td>\n",
       "      <td>28</td>\n",
       "    </tr>\n",
       "    <tr>\n",
       "      <th>9</th>\n",
       "      <td>NYPL</td>\n",
       "      <td>90</td>\n",
       "    </tr>\n",
       "    <tr>\n",
       "      <th>10</th>\n",
       "      <td>QPL</td>\n",
       "      <td>65</td>\n",
       "    </tr>\n",
       "    <tr>\n",
       "      <th>11</th>\n",
       "      <td>Transit Wireless</td>\n",
       "      <td>276</td>\n",
       "    </tr>\n",
       "  </tbody>\n",
       "</table>\n",
       "</div>"
      ],
      "text/plain": [
       "                   Provider  Free hotspots\n",
       "0                      AT&T             26\n",
       "1                       BPL             59\n",
       "2                   Chelsea             30\n",
       "3                 City Tech             11\n",
       "4         Downtown Brooklyn            100\n",
       "5                    Harlem            128\n",
       "6      LinkNYC - Citybridge           1134\n",
       "7   Manhattan Down Alliance             36\n",
       "8                     NYCHA             28\n",
       "9                      NYPL             90\n",
       "10                      QPL             65\n",
       "11         Transit Wireless            276"
      ]
     },
     "execution_count": 11,
     "metadata": {},
     "output_type": "execute_result"
    }
   ],
   "source": [
    "df_provider_free"
   ]
  },
  {
   "cell_type": "code",
   "execution_count": 12,
   "id": "7c3ffbee",
   "metadata": {},
   "outputs": [
    {
     "data": {
      "image/png": "[encoded data removed]",
      "text/plain": [
       "<Figure size 432x288 with 1 Axes>"
      ]
     },
     "metadata": {
      "needs_background": "light"
     },
     "output_type": "display_data"
    }
   ],
   "source": [
    "sns.barplot(data=df_provider_free,y='Free hotspots',x='Provider').set(title=\"Providers vs Number of free hotspots\")\n",
    "plt.xticks(rotation = 90)\n",
    "plt.show()"
   ]
  },
  {
   "cell_type": "markdown",
   "id": "65302679",
   "metadata": {},
   "source": [
    "c. Are there any provider(s) who do not provide free wifi?"
   ]
  },
  {
   "cell_type": "code",
   "execution_count": 13,
   "id": "bf77ddb7",
   "metadata": {},
   "outputs": [],
   "source": [
    "#Get the list of wifi providers\n",
    "providers = list(wifi_df['Provider'].unique())\n",
    "free_providers = set(df_provider_free['Provider'])"
   ]
  },
  {
   "cell_type": "code",
   "execution_count": 14,
   "id": "1611d5eb",
   "metadata": {},
   "outputs": [],
   "source": [
    "result = [provider for provider in providers if provider not in free_providers]"
   ]
  },
  {
   "cell_type": "code",
   "execution_count": 15,
   "id": "a728ee89",
   "metadata": {},
   "outputs": [
    {
     "name": "stdout",
     "output_type": "stream",
     "text": [
      "Providers who dont provide free wifi ['ALTICEUSA', 'SPECTRUM', 'Partner']\n"
     ]
    }
   ],
   "source": [
    "print(\"Providers who dont provide free wifi\",result)"
   ]
  },
  {
   "cell_type": "markdown",
   "id": "142cfcbf",
   "metadata": {},
   "source": [
    "d. Which Location type (Location_T) are most common and least common? "
   ]
  },
  {
   "cell_type": "code",
   "execution_count": 16,
   "id": "97f351f8",
   "metadata": {},
   "outputs": [
    {
     "data": {
      "text/plain": [
       "Outdoor Kiosk         1134\n",
       "Outdoor                696\n",
       "Subway Station         276\n",
       "Library                214\n",
       "Indoor                 125\n",
       "Outdoor TWC Aerial     121\n",
       "Name: Location_T, dtype: int64"
      ]
     },
     "execution_count": 16,
     "metadata": {},
     "output_type": "execute_result"
    }
   ],
   "source": [
    "wifi_df['Location_T'].value_counts()"
   ]
  },
  {
   "cell_type": "code",
   "execution_count": 17,
   "id": "a346a74c",
   "metadata": {},
   "outputs": [
    {
     "name": "stdout",
     "output_type": "stream",
     "text": [
      "Most common Location type Outdoor Kiosk\n",
      "Least common Location type Outdoor TWC Aerial\n"
     ]
    }
   ],
   "source": [
    "print('Most common Location type',wifi_df['Location_T'].value_counts().idxmax())\n",
    "print('Least common Location type',wifi_df['Location_T'].value_counts().idxmin())"
   ]
  },
  {
   "cell_type": "markdown",
   "id": "daeb4e22",
   "metadata": {},
   "source": [
    "e. How many free “indoor” and “outdoor” hotspots are there? Which companies have the\n",
    "highest number of Outdoor Free installations"
   ]
  },
  {
   "cell_type": "code",
   "execution_count": 18,
   "id": "97117578",
   "metadata": {},
   "outputs": [
    {
     "name": "stdout",
     "output_type": "stream",
     "text": [
      "Location_T\n",
      "Library            214\n",
      "Outdoor            359\n",
      "Outdoor Kiosk     1134\n",
      "Subway Station     276\n",
      "Name: Location_T, dtype: int64\n"
     ]
    }
   ],
   "source": [
    "#Indoor/outdoor hotspots by provider\n",
    "by_type= wifi_df[wifi_df['Type']=='Free'].groupby(['Location_T'])['Location_T'].count()\n",
    "print(by_type)"
   ]
  },
  {
   "cell_type": "code",
   "execution_count": 19,
   "id": "d51032f8",
   "metadata": {},
   "outputs": [
    {
     "name": "stdout",
     "output_type": "stream",
     "text": [
      "There is no free indoor hotspots\n"
     ]
    }
   ],
   "source": [
    "print('There is no free indoor hotspots')"
   ]
  },
  {
   "cell_type": "code",
   "execution_count": 20,
   "id": "b2869fcf",
   "metadata": {},
   "outputs": [
    {
     "name": "stdout",
     "output_type": "stream",
     "text": [
      "No. of free outdoor hotspots 359\n"
     ]
    }
   ],
   "source": [
    "print(\"No. of free outdoor hotspots\",by_type.Outdoor)"
   ]
  },
  {
   "cell_type": "code",
   "execution_count": 21,
   "id": "d9a905bc",
   "metadata": {},
   "outputs": [
    {
     "data": {
      "text/plain": [
       "Provider                 Location_T\n",
       "AT&T                     Outdoor        26\n",
       "Chelsea                  Outdoor        30\n",
       "City Tech                Outdoor        11\n",
       "Downtown Brooklyn        Outdoor       100\n",
       "Harlem                   Outdoor       128\n",
       "Manhattan Down Alliance  Outdoor        36\n",
       "NYCHA                    Outdoor        28\n",
       "Name: Location_T, dtype: int64"
      ]
     },
     "execution_count": 21,
     "metadata": {},
     "output_type": "execute_result"
    }
   ],
   "source": [
    "by_provider_location = wifi_df[(wifi_df['Location_T']=='Outdoor') & (wifi_df['Type']=='Free')].groupby(['Provider','Location_T'])['Location_T'].count()\n",
    "by_provider_location"
   ]
  },
  {
   "cell_type": "code",
   "execution_count": 22,
   "id": "b26ae0e2",
   "metadata": {},
   "outputs": [
    {
     "name": "stdout",
     "output_type": "stream",
     "text": [
      "Provider who have maximum free outdoor installations  Harlem\n"
     ]
    }
   ],
   "source": [
    "print(\"Provider who have maximum free outdoor installations \",by_provider_location.idxmax()[0])"
   ]
  },
  {
   "cell_type": "code",
   "execution_count": null,
   "id": "91516a6c",
   "metadata": {},
   "outputs": [],
   "source": []
  }
 ],
 "metadata": {
  "kernelspec": {
   "display_name": "Python 3 (ipykernel)",
   "language": "python",
   "name": "python3"
  },
  "language_info": {
   "codemirror_mode": {
    "name": "ipython",
    "version": 3
   },
   "file_extension": ".py",
   "mimetype": "text/x-python",
   "name": "python",
   "nbconvert_exporter": "python",
   "pygments_lexer": "ipython3",
   "version": "3.8.8"
  }
 },
 "nbformat": 4,
 "nbformat_minor": 5
}
