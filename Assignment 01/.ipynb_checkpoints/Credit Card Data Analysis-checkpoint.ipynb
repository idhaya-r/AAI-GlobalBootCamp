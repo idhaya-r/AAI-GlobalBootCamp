{
 "cells": [
  {
   "cell_type": "code",
   "execution_count": 1,
   "id": "3459ddf0",
   "metadata": {},
   "outputs": [],
   "source": [
    "import pandas as pd\n",
    "import numpy as np"
   ]
  },
  {
   "cell_type": "markdown",
   "id": "51a90edf",
   "metadata": {},
   "source": [
    "## 1. Downloading the data to dataframes "
   ]
  },
  {
   "cell_type": "code",
   "execution_count": 2,
   "id": "78f1d171",
   "metadata": {},
   "outputs": [
    {
     "data": {
      "text/html": [
       "<div>\n",
       "<style scoped>\n",
       "    .dataframe tbody tr th:only-of-type {\n",
       "        vertical-align: middle;\n",
       "    }\n",
       "\n",
       "    .dataframe tbody tr th {\n",
       "        vertical-align: top;\n",
       "    }\n",
       "\n",
       "    .dataframe thead th {\n",
       "        text-align: right;\n",
       "    }\n",
       "</style>\n",
       "<table border=\"1\" class=\"dataframe\">\n",
       "  <thead>\n",
       "    <tr style=\"text-align: right;\">\n",
       "      <th></th>\n",
       "      <th>No</th>\n",
       "      <th>Customer</th>\n",
       "      <th>Age</th>\n",
       "      <th>City</th>\n",
       "      <th>Product</th>\n",
       "      <th>Limit</th>\n",
       "      <th>Company</th>\n",
       "      <th>Segment</th>\n",
       "    </tr>\n",
       "  </thead>\n",
       "  <tbody>\n",
       "    <tr>\n",
       "      <th>0</th>\n",
       "      <td>1</td>\n",
       "      <td>A1</td>\n",
       "      <td>47</td>\n",
       "      <td>BANGALORE</td>\n",
       "      <td>Gold</td>\n",
       "      <td>1500000</td>\n",
       "      <td>C1</td>\n",
       "      <td>Self Employed</td>\n",
       "    </tr>\n",
       "    <tr>\n",
       "      <th>1</th>\n",
       "      <td>2</td>\n",
       "      <td>A2</td>\n",
       "      <td>56</td>\n",
       "      <td>CALCUTTA</td>\n",
       "      <td>Silver</td>\n",
       "      <td>300000</td>\n",
       "      <td>C2</td>\n",
       "      <td>Salaried_MNC</td>\n",
       "    </tr>\n",
       "    <tr>\n",
       "      <th>2</th>\n",
       "      <td>3</td>\n",
       "      <td>A3</td>\n",
       "      <td>30</td>\n",
       "      <td>COCHIN</td>\n",
       "      <td>Platimum</td>\n",
       "      <td>540000</td>\n",
       "      <td>C3</td>\n",
       "      <td>Salaried_Pvt</td>\n",
       "    </tr>\n",
       "    <tr>\n",
       "      <th>3</th>\n",
       "      <td>4</td>\n",
       "      <td>A4</td>\n",
       "      <td>22</td>\n",
       "      <td>BOMBAY</td>\n",
       "      <td>Platimum</td>\n",
       "      <td>840084</td>\n",
       "      <td>C4</td>\n",
       "      <td>Govt</td>\n",
       "    </tr>\n",
       "    <tr>\n",
       "      <th>4</th>\n",
       "      <td>5</td>\n",
       "      <td>A5</td>\n",
       "      <td>59</td>\n",
       "      <td>BANGALORE</td>\n",
       "      <td>Platimum</td>\n",
       "      <td>420084</td>\n",
       "      <td>C5</td>\n",
       "      <td>Normal Salary</td>\n",
       "    </tr>\n",
       "  </tbody>\n",
       "</table>\n",
       "</div>"
      ],
      "text/plain": [
       "   No Customer  Age       City   Product    Limit Company        Segment\n",
       "0   1       A1   47  BANGALORE      Gold  1500000      C1  Self Employed\n",
       "1   2       A2   56   CALCUTTA    Silver   300000      C2   Salaried_MNC\n",
       "2   3       A3   30     COCHIN  Platimum   540000      C3   Salaried_Pvt\n",
       "3   4       A4   22     BOMBAY  Platimum   840084      C4           Govt\n",
       "4   5       A5   59  BANGALORE  Platimum   420084      C5  Normal Salary"
      ]
     },
     "execution_count": 2,
     "metadata": {},
     "output_type": "execute_result"
    }
   ],
   "source": [
    "df_customer = pd.read_excel('./Datasets/Credit Card Data.xlsx',sheet_name='Customer Details')\n",
    "df_customer.head()"
   ]
  },
  {
   "cell_type": "code",
   "execution_count": 3,
   "id": "b064ab27",
   "metadata": {},
   "outputs": [
    {
     "data": {
      "text/html": [
       "<div>\n",
       "<style scoped>\n",
       "    .dataframe tbody tr th:only-of-type {\n",
       "        vertical-align: middle;\n",
       "    }\n",
       "\n",
       "    .dataframe tbody tr th {\n",
       "        vertical-align: top;\n",
       "    }\n",
       "\n",
       "    .dataframe thead th {\n",
       "        text-align: right;\n",
       "    }\n",
       "</style>\n",
       "<table border=\"1\" class=\"dataframe\">\n",
       "  <thead>\n",
       "    <tr style=\"text-align: right;\">\n",
       "      <th></th>\n",
       "      <th>Sl No:</th>\n",
       "      <th>Customer</th>\n",
       "      <th>Month</th>\n",
       "      <th>Type</th>\n",
       "      <th>Amount</th>\n",
       "    </tr>\n",
       "  </thead>\n",
       "  <tbody>\n",
       "    <tr>\n",
       "      <th>0</th>\n",
       "      <td>1</td>\n",
       "      <td>A1</td>\n",
       "      <td>2004-01-12</td>\n",
       "      <td>JEWELLERY</td>\n",
       "      <td>344054.980813</td>\n",
       "    </tr>\n",
       "    <tr>\n",
       "      <th>1</th>\n",
       "      <td>2</td>\n",
       "      <td>A1</td>\n",
       "      <td>2004-01-03</td>\n",
       "      <td>PETRO</td>\n",
       "      <td>935.495203</td>\n",
       "    </tr>\n",
       "    <tr>\n",
       "      <th>2</th>\n",
       "      <td>3</td>\n",
       "      <td>A1</td>\n",
       "      <td>2004-01-15</td>\n",
       "      <td>CLOTHES</td>\n",
       "      <td>8687.895474</td>\n",
       "    </tr>\n",
       "    <tr>\n",
       "      <th>3</th>\n",
       "      <td>4</td>\n",
       "      <td>A1</td>\n",
       "      <td>2004-01-25</td>\n",
       "      <td>FOOD</td>\n",
       "      <td>341.159711</td>\n",
       "    </tr>\n",
       "    <tr>\n",
       "      <th>4</th>\n",
       "      <td>5</td>\n",
       "      <td>A1</td>\n",
       "      <td>2005-01-17</td>\n",
       "      <td>CAMERA</td>\n",
       "      <td>3406.639477</td>\n",
       "    </tr>\n",
       "  </tbody>\n",
       "</table>\n",
       "</div>"
      ],
      "text/plain": [
       "   Sl No: Customer      Month       Type         Amount\n",
       "0       1       A1 2004-01-12  JEWELLERY  344054.980813\n",
       "1       2       A1 2004-01-03      PETRO     935.495203\n",
       "2       3       A1 2004-01-15    CLOTHES    8687.895474\n",
       "3       4       A1 2004-01-25       FOOD     341.159711\n",
       "4       5       A1 2005-01-17     CAMERA    3406.639477"
      ]
     },
     "execution_count": 3,
     "metadata": {},
     "output_type": "execute_result"
    }
   ],
   "source": [
    "df_spend = pd.read_excel('./Datasets/Credit Card Data.xlsx',sheet_name='Spend')\n",
    "df_spend.head()"
   ]
  },
  {
   "cell_type": "code",
   "execution_count": 4,
   "id": "fdadc1bc",
   "metadata": {},
   "outputs": [
    {
     "data": {
      "text/html": [
       "<div>\n",
       "<style scoped>\n",
       "    .dataframe tbody tr th:only-of-type {\n",
       "        vertical-align: middle;\n",
       "    }\n",
       "\n",
       "    .dataframe tbody tr th {\n",
       "        vertical-align: top;\n",
       "    }\n",
       "\n",
       "    .dataframe thead th {\n",
       "        text-align: right;\n",
       "    }\n",
       "</style>\n",
       "<table border=\"1\" class=\"dataframe\">\n",
       "  <thead>\n",
       "    <tr style=\"text-align: right;\">\n",
       "      <th></th>\n",
       "      <th>SL No:</th>\n",
       "      <th>Customer</th>\n",
       "      <th>Month</th>\n",
       "      <th>Amount</th>\n",
       "    </tr>\n",
       "  </thead>\n",
       "  <tbody>\n",
       "    <tr>\n",
       "      <th>0</th>\n",
       "      <td>1</td>\n",
       "      <td>A1</td>\n",
       "      <td>2006-05-15</td>\n",
       "      <td>2.308473e+05</td>\n",
       "    </tr>\n",
       "    <tr>\n",
       "      <th>1</th>\n",
       "      <td>2</td>\n",
       "      <td>A1</td>\n",
       "      <td>2005-08-27</td>\n",
       "      <td>1.835124e+03</td>\n",
       "    </tr>\n",
       "    <tr>\n",
       "      <th>2</th>\n",
       "      <td>3</td>\n",
       "      <td>A1</td>\n",
       "      <td>2004-03-07</td>\n",
       "      <td>4.858701e+03</td>\n",
       "    </tr>\n",
       "    <tr>\n",
       "      <th>3</th>\n",
       "      <td>4</td>\n",
       "      <td>A1</td>\n",
       "      <td>2005-03-01</td>\n",
       "      <td>1.360527e+06</td>\n",
       "    </tr>\n",
       "    <tr>\n",
       "      <th>4</th>\n",
       "      <td>5</td>\n",
       "      <td>A1</td>\n",
       "      <td>2004-02-14</td>\n",
       "      <td>1.902322e+05</td>\n",
       "    </tr>\n",
       "  </tbody>\n",
       "</table>\n",
       "</div>"
      ],
      "text/plain": [
       "   SL No: Customer      Month        Amount\n",
       "0       1       A1 2006-05-15  2.308473e+05\n",
       "1       2       A1 2005-08-27  1.835124e+03\n",
       "2       3       A1 2004-03-07  4.858701e+03\n",
       "3       4       A1 2005-03-01  1.360527e+06\n",
       "4       5       A1 2004-02-14  1.902322e+05"
      ]
     },
     "execution_count": 4,
     "metadata": {},
     "output_type": "execute_result"
    }
   ],
   "source": [
    "df_repayment = pd.read_excel('./Datasets/Credit Card Data.xlsx',sheet_name='Repayment')\n",
    "df_repayment.head()"
   ]
  },
  {
   "cell_type": "markdown",
   "id": "8602867b",
   "metadata": {},
   "source": [
    "## 2. Checking for data types and missing values"
   ]
  },
  {
   "cell_type": "code",
   "execution_count": 5,
   "id": "9ec21bd1",
   "metadata": {},
   "outputs": [
    {
     "name": "stdout",
     "output_type": "stream",
     "text": [
      "<class 'pandas.core.frame.DataFrame'>\n",
      "RangeIndex: 100 entries, 0 to 99\n",
      "Data columns (total 8 columns):\n",
      " #   Column    Non-Null Count  Dtype \n",
      "---  ------    --------------  ----- \n",
      " 0   No        100 non-null    int64 \n",
      " 1   Customer  100 non-null    object\n",
      " 2   Age       100 non-null    int64 \n",
      " 3   City      100 non-null    object\n",
      " 4   Product   100 non-null    object\n",
      " 5   Limit     100 non-null    int64 \n",
      " 6   Company   100 non-null    object\n",
      " 7   Segment   100 non-null    object\n",
      "dtypes: int64(3), object(5)\n",
      "memory usage: 6.4+ KB\n"
     ]
    }
   ],
   "source": [
    "df_customer.info()"
   ]
  },
  {
   "cell_type": "markdown",
   "id": "a9a8905d",
   "metadata": {},
   "source": [
    "All the data types looks to be okay for customer"
   ]
  },
  {
   "cell_type": "code",
   "execution_count": 6,
   "id": "16d9fb8a",
   "metadata": {},
   "outputs": [
    {
     "data": {
      "text/plain": [
       "No          0\n",
       "Customer    0\n",
       "Age         0\n",
       "City        0\n",
       "Product     0\n",
       "Limit       0\n",
       "Company     0\n",
       "Segment     0\n",
       "dtype: int64"
      ]
     },
     "execution_count": 6,
     "metadata": {},
     "output_type": "execute_result"
    }
   ],
   "source": [
    "df_customer.isnull().sum()"
   ]
  },
  {
   "cell_type": "markdown",
   "id": "b8b93b19",
   "metadata": {},
   "source": [
    "No missing values found, lets explore other data frames."
   ]
  },
  {
   "cell_type": "code",
   "execution_count": 7,
   "id": "3171fd11",
   "metadata": {},
   "outputs": [
    {
     "name": "stdout",
     "output_type": "stream",
     "text": [
      "<class 'pandas.core.frame.DataFrame'>\n",
      "RangeIndex: 1500 entries, 0 to 1499\n",
      "Data columns (total 5 columns):\n",
      " #   Column    Non-Null Count  Dtype         \n",
      "---  ------    --------------  -----         \n",
      " 0   Sl No:    1500 non-null   int64         \n",
      " 1   Customer  1500 non-null   object        \n",
      " 2   Month     1500 non-null   datetime64[ns]\n",
      " 3   Type      1500 non-null   object        \n",
      " 4   Amount    1500 non-null   float64       \n",
      "dtypes: datetime64[ns](1), float64(1), int64(1), object(2)\n",
      "memory usage: 58.7+ KB\n"
     ]
    }
   ],
   "source": [
    "df_spend.info()"
   ]
  },
  {
   "cell_type": "markdown",
   "id": "d5cabecb",
   "metadata": {},
   "source": [
    "All the data types looks to be okay for spend dataframe"
   ]
  },
  {
   "cell_type": "code",
   "execution_count": 8,
   "id": "63eb6a6f",
   "metadata": {},
   "outputs": [
    {
     "data": {
      "text/plain": [
       "Sl No:      0\n",
       "Customer    0\n",
       "Month       0\n",
       "Type        0\n",
       "Amount      0\n",
       "dtype: int64"
      ]
     },
     "execution_count": 8,
     "metadata": {},
     "output_type": "execute_result"
    }
   ],
   "source": [
    "df_spend.isnull().sum()"
   ]
  },
  {
   "cell_type": "markdown",
   "id": "5732d1ac",
   "metadata": {},
   "source": [
    "No missing values found, lets explore repayment."
   ]
  },
  {
   "cell_type": "code",
   "execution_count": 9,
   "id": "28aa9b91",
   "metadata": {},
   "outputs": [
    {
     "name": "stdout",
     "output_type": "stream",
     "text": [
      "<class 'pandas.core.frame.DataFrame'>\n",
      "RangeIndex: 807 entries, 0 to 806\n",
      "Data columns (total 4 columns):\n",
      " #   Column    Non-Null Count  Dtype         \n",
      "---  ------    --------------  -----         \n",
      " 0   SL No:    807 non-null    int64         \n",
      " 1   Customer  807 non-null    object        \n",
      " 2   Month     803 non-null    datetime64[ns]\n",
      " 3   Amount    807 non-null    float64       \n",
      "dtypes: datetime64[ns](1), float64(1), int64(1), object(1)\n",
      "memory usage: 25.3+ KB\n"
     ]
    }
   ],
   "source": [
    "df_repayment.info()"
   ]
  },
  {
   "cell_type": "code",
   "execution_count": 10,
   "id": "1844ac83",
   "metadata": {},
   "outputs": [
    {
     "data": {
      "text/plain": [
       "SL No:      0\n",
       "Customer    0\n",
       "Month       4\n",
       "Amount      0\n",
       "dtype: int64"
      ]
     },
     "execution_count": 10,
     "metadata": {},
     "output_type": "execute_result"
    }
   ],
   "source": [
    "df_repayment.isnull().sum()"
   ]
  },
  {
   "cell_type": "markdown",
   "id": "1a8fb31b",
   "metadata": {},
   "source": [
    "4 rows have misisng date columns."
   ]
  },
  {
   "cell_type": "code",
   "execution_count": 11,
   "id": "ef95c469",
   "metadata": {},
   "outputs": [
    {
     "data": {
      "text/plain": [
       "SL No:      0.000000\n",
       "Customer    0.000000\n",
       "Month       0.495663\n",
       "Amount      0.000000\n",
       "dtype: float64"
      ]
     },
     "execution_count": 11,
     "metadata": {},
     "output_type": "execute_result"
    }
   ],
   "source": [
    "df_repayment.isnull().sum()*100/df_repayment.shape[0]"
   ]
  },
  {
   "cell_type": "markdown",
   "id": "d213011d",
   "metadata": {},
   "source": [
    "The number rows with missing values is less than one percent. So lets drop the rows."
   ]
  },
  {
   "cell_type": "code",
   "execution_count": 12,
   "id": "202a0448",
   "metadata": {},
   "outputs": [
    {
     "data": {
      "text/html": [
       "<div>\n",
       "<style scoped>\n",
       "    .dataframe tbody tr th:only-of-type {\n",
       "        vertical-align: middle;\n",
       "    }\n",
       "\n",
       "    .dataframe tbody tr th {\n",
       "        vertical-align: top;\n",
       "    }\n",
       "\n",
       "    .dataframe thead th {\n",
       "        text-align: right;\n",
       "    }\n",
       "</style>\n",
       "<table border=\"1\" class=\"dataframe\">\n",
       "  <thead>\n",
       "    <tr style=\"text-align: right;\">\n",
       "      <th></th>\n",
       "      <th>SL No:</th>\n",
       "      <th>Customer</th>\n",
       "      <th>Month</th>\n",
       "      <th>Amount</th>\n",
       "    </tr>\n",
       "  </thead>\n",
       "  <tbody>\n",
       "    <tr>\n",
       "      <th>274</th>\n",
       "      <td>275</td>\n",
       "      <td>A29</td>\n",
       "      <td>NaT</td>\n",
       "      <td>139343.954497</td>\n",
       "    </tr>\n",
       "    <tr>\n",
       "      <th>299</th>\n",
       "      <td>300</td>\n",
       "      <td>A30</td>\n",
       "      <td>NaT</td>\n",
       "      <td>75520.695090</td>\n",
       "    </tr>\n",
       "    <tr>\n",
       "      <th>418</th>\n",
       "      <td>419</td>\n",
       "      <td>A40</td>\n",
       "      <td>NaT</td>\n",
       "      <td>4203.395579</td>\n",
       "    </tr>\n",
       "    <tr>\n",
       "      <th>789</th>\n",
       "      <td>790</td>\n",
       "      <td>A9</td>\n",
       "      <td>NaT</td>\n",
       "      <td>20150.636740</td>\n",
       "    </tr>\n",
       "  </tbody>\n",
       "</table>\n",
       "</div>"
      ],
      "text/plain": [
       "     SL No: Customer Month         Amount\n",
       "274     275      A29   NaT  139343.954497\n",
       "299     300      A30   NaT   75520.695090\n",
       "418     419      A40   NaT    4203.395579\n",
       "789     790       A9   NaT   20150.636740"
      ]
     },
     "execution_count": 12,
     "metadata": {},
     "output_type": "execute_result"
    }
   ],
   "source": [
    "df_repayment[df_repayment.Month.isnull()] ## Checking the rows before dropping."
   ]
  },
  {
   "cell_type": "code",
   "execution_count": 13,
   "id": "35bcbf45",
   "metadata": {},
   "outputs": [],
   "source": [
    "df_repayment = df_repayment[~df_repayment.Month.isnull()] ## Dropping the rows with null values."
   ]
  },
  {
   "cell_type": "markdown",
   "id": "e398686e",
   "metadata": {},
   "source": [
    "### Task 2: \n",
    "Age of credit card customer can't be less than 18. In case age is less than 18, replace it\n",
    "with mean of age.\n"
   ]
  },
  {
   "cell_type": "code",
   "execution_count": 14,
   "id": "126b7846",
   "metadata": {},
   "outputs": [],
   "source": [
    "mask = df_customer.Age<18"
   ]
  },
  {
   "cell_type": "markdown",
   "id": "3bd64a4a",
   "metadata": {},
   "source": [
    "3 Customers have the age below 18, and it has to be replaced with mean."
   ]
  },
  {
   "cell_type": "code",
   "execution_count": 15,
   "id": "bf15d17c",
   "metadata": {},
   "outputs": [],
   "source": [
    "df_customer.loc[mask,'Age'] = round(df_customer.Age.mean())"
   ]
  },
  {
   "cell_type": "markdown",
   "id": "879ca286",
   "metadata": {},
   "source": [
    "### Task 3: Data Exploration"
   ]
  },
  {
   "cell_type": "markdown",
   "id": "7b1078e4",
   "metadata": {},
   "source": [
    "a. How many unique customers are there?"
   ]
  },
  {
   "cell_type": "code",
   "execution_count": 16,
   "id": "02cae875",
   "metadata": {},
   "outputs": [
    {
     "name": "stdout",
     "output_type": "stream",
     "text": [
      "Number of unique customers are  100\n"
     ]
    }
   ],
   "source": [
    "print('Number of unique customers are ',df_customer['Customer'].nunique())"
   ]
  },
  {
   "cell_type": "markdown",
   "id": "d8fafa77",
   "metadata": {},
   "source": [
    "b. How many spend categories are there?"
   ]
  },
  {
   "cell_type": "code",
   "execution_count": 17,
   "id": "6a5fabe1",
   "metadata": {},
   "outputs": [
    {
     "name": "stdout",
     "output_type": "stream",
     "text": [
      "Number of spend categories are  15\n"
     ]
    }
   ],
   "source": [
    "print(\"Number of spend categories are \", len(df_spend['Type'].unique()))"
   ]
  },
  {
   "cell_type": "markdown",
   "id": "f1eb889d",
   "metadata": {},
   "source": [
    "c. Which category has the highest value spend"
   ]
  },
  {
   "cell_type": "code",
   "execution_count": 18,
   "id": "f81fbd89",
   "metadata": {},
   "outputs": [
    {
     "data": {
      "text/plain": [
       "Type\n",
       "AIR TICKET      254632.194082\n",
       "AUTO             27320.763977\n",
       "BIKE            210701.269489\n",
       "BUS TICKET       12681.030717\n",
       "CAMERA           21499.802175\n",
       "CAR             409143.467018\n",
       "CLOTHES          25140.160688\n",
       "FOOD               341.168321\n",
       "JEWELLERY       239218.687225\n",
       "MOVIE TICKET      1875.298919\n",
       "PETRO              549.483953\n",
       "RENTAL           13106.511138\n",
       "SANDALS           2516.628761\n",
       "SHOPPING          7394.332039\n",
       "TRAIN TICKET      1627.490364\n",
       "Name: Amount, dtype: float64"
      ]
     },
     "execution_count": 18,
     "metadata": {},
     "output_type": "execute_result"
    }
   ],
   "source": [
    "df_spend.groupby(['Type'])['Amount'].mean()"
   ]
  },
  {
   "cell_type": "code",
   "execution_count": 19,
   "id": "c7377a10",
   "metadata": {},
   "outputs": [
    {
     "name": "stdout",
     "output_type": "stream",
     "text": [
      "CAR  has the highest spend in the category\n"
     ]
    }
   ],
   "source": [
    "print(df_spend.groupby(['Type'])['Amount'].mean().idxmax(),\" has the highest spend in the category\")"
   ]
  },
  {
   "cell_type": "markdown",
   "id": "4139caa5",
   "metadata": {},
   "source": [
    "d. What is the average monthly spent by product categories?\n"
   ]
  },
  {
   "cell_type": "code",
   "execution_count": 20,
   "id": "597751eb",
   "metadata": {},
   "outputs": [
    {
     "name": "stdout",
     "output_type": "stream",
     "text": [
      "Average monthly spend by product categories\n"
     ]
    },
    {
     "data": {
      "text/plain": [
       "Type\n",
       "AIR TICKET      254632.194082\n",
       "AUTO             27320.763977\n",
       "BIKE            210701.269489\n",
       "BUS TICKET       12681.030717\n",
       "CAMERA           21499.802175\n",
       "CAR             409143.467018\n",
       "CLOTHES          25140.160688\n",
       "FOOD               341.168321\n",
       "JEWELLERY       239218.687225\n",
       "MOVIE TICKET      1875.298919\n",
       "PETRO              549.483953\n",
       "RENTAL           13106.511138\n",
       "SANDALS           2516.628761\n",
       "SHOPPING          7394.332039\n",
       "TRAIN TICKET      1627.490364\n",
       "Name: Amount, dtype: float64"
      ]
     },
     "execution_count": 20,
     "metadata": {},
     "output_type": "execute_result"
    }
   ],
   "source": [
    "print('Average monthly spend by product categories')\n",
    "df_spend.groupby(['Type'])['Amount'].mean()"
   ]
  },
  {
   "cell_type": "markdown",
   "id": "19584119",
   "metadata": {},
   "source": [
    "e. Which customers are reaching 90% or more of their spending limit?"
   ]
  },
  {
   "cell_type": "code",
   "execution_count": 21,
   "id": "3265b23b",
   "metadata": {},
   "outputs": [],
   "source": [
    "customer_spend = df_spend.groupby(['Customer'])['Amount'].sum()"
   ]
  },
  {
   "cell_type": "code",
   "execution_count": 22,
   "id": "dd6c5a6c",
   "metadata": {},
   "outputs": [],
   "source": [
    "df_customer_spend = pd.DataFrame({'Customer': customer_spend.index,'Amount_spend':customer_spend.values})"
   ]
  },
  {
   "cell_type": "code",
   "execution_count": 23,
   "id": "a8aacc7d",
   "metadata": {},
   "outputs": [
    {
     "data": {
      "text/html": [
       "<div>\n",
       "<style scoped>\n",
       "    .dataframe tbody tr th:only-of-type {\n",
       "        vertical-align: middle;\n",
       "    }\n",
       "\n",
       "    .dataframe tbody tr th {\n",
       "        vertical-align: top;\n",
       "    }\n",
       "\n",
       "    .dataframe thead th {\n",
       "        text-align: right;\n",
       "    }\n",
       "</style>\n",
       "<table border=\"1\" class=\"dataframe\">\n",
       "  <thead>\n",
       "    <tr style=\"text-align: right;\">\n",
       "      <th></th>\n",
       "      <th>No</th>\n",
       "      <th>Customer</th>\n",
       "      <th>Age</th>\n",
       "      <th>City</th>\n",
       "      <th>Product</th>\n",
       "      <th>Limit</th>\n",
       "      <th>Company</th>\n",
       "      <th>Segment</th>\n",
       "      <th>Amount_spend</th>\n",
       "    </tr>\n",
       "  </thead>\n",
       "  <tbody>\n",
       "    <tr>\n",
       "      <th>0</th>\n",
       "      <td>1</td>\n",
       "      <td>A1</td>\n",
       "      <td>47</td>\n",
       "      <td>BANGALORE</td>\n",
       "      <td>Gold</td>\n",
       "      <td>1500000</td>\n",
       "      <td>C1</td>\n",
       "      <td>Self Employed</td>\n",
       "      <td>2,202,653.18</td>\n",
       "    </tr>\n",
       "    <tr>\n",
       "      <th>1</th>\n",
       "      <td>2</td>\n",
       "      <td>A2</td>\n",
       "      <td>56</td>\n",
       "      <td>CALCUTTA</td>\n",
       "      <td>Silver</td>\n",
       "      <td>300000</td>\n",
       "      <td>C2</td>\n",
       "      <td>Salaried_MNC</td>\n",
       "      <td>175,463.27</td>\n",
       "    </tr>\n",
       "    <tr>\n",
       "      <th>2</th>\n",
       "      <td>3</td>\n",
       "      <td>A3</td>\n",
       "      <td>30</td>\n",
       "      <td>COCHIN</td>\n",
       "      <td>Platimum</td>\n",
       "      <td>540000</td>\n",
       "      <td>C3</td>\n",
       "      <td>Salaried_Pvt</td>\n",
       "      <td>533,443.09</td>\n",
       "    </tr>\n",
       "    <tr>\n",
       "      <th>3</th>\n",
       "      <td>4</td>\n",
       "      <td>A4</td>\n",
       "      <td>22</td>\n",
       "      <td>BOMBAY</td>\n",
       "      <td>Platimum</td>\n",
       "      <td>840084</td>\n",
       "      <td>C4</td>\n",
       "      <td>Govt</td>\n",
       "      <td>904,660.07</td>\n",
       "    </tr>\n",
       "    <tr>\n",
       "      <th>4</th>\n",
       "      <td>5</td>\n",
       "      <td>A5</td>\n",
       "      <td>59</td>\n",
       "      <td>BANGALORE</td>\n",
       "      <td>Platimum</td>\n",
       "      <td>420084</td>\n",
       "      <td>C5</td>\n",
       "      <td>Normal Salary</td>\n",
       "      <td>923,534.79</td>\n",
       "    </tr>\n",
       "  </tbody>\n",
       "</table>\n",
       "</div>"
      ],
      "text/plain": [
       "   No Customer  Age       City   Product    Limit Company        Segment  \\\n",
       "0   1       A1   47  BANGALORE      Gold  1500000      C1  Self Employed   \n",
       "1   2       A2   56   CALCUTTA    Silver   300000      C2   Salaried_MNC   \n",
       "2   3       A3   30     COCHIN  Platimum   540000      C3   Salaried_Pvt   \n",
       "3   4       A4   22     BOMBAY  Platimum   840084      C4           Govt   \n",
       "4   5       A5   59  BANGALORE  Platimum   420084      C5  Normal Salary   \n",
       "\n",
       "   Amount_spend  \n",
       "0  2,202,653.18  \n",
       "1    175,463.27  \n",
       "2    533,443.09  \n",
       "3    904,660.07  \n",
       "4    923,534.79  "
      ]
     },
     "execution_count": 23,
     "metadata": {},
     "output_type": "execute_result"
    }
   ],
   "source": [
    "pd.options.display.float_format = '{:,.2f}'.format\n",
    "df_customer_spend=pd.merge(df_customer,df_customer_spend,how='inner',on='Customer')\n",
    "df_customer_spend.head()"
   ]
  },
  {
   "cell_type": "code",
   "execution_count": 24,
   "id": "168f4ee1",
   "metadata": {},
   "outputs": [],
   "source": [
    "df_customer_spend['Spending Limit Percentage']= round(df_customer_spend['Amount_spend']*100/df_customer_spend['Limit'],2)"
   ]
  },
  {
   "cell_type": "code",
   "execution_count": 25,
   "id": "cd4a122b",
   "metadata": {},
   "outputs": [
    {
     "name": "stdout",
     "output_type": "stream",
     "text": [
      "Below customers are spending more than 90% limit:\n"
     ]
    },
    {
     "data": {
      "text/plain": [
       "['A1',\n",
       " 'A3',\n",
       " 'A4',\n",
       " 'A5',\n",
       " 'A6',\n",
       " 'A7',\n",
       " 'A8',\n",
       " 'A9',\n",
       " 'A11',\n",
       " 'A12',\n",
       " 'A13',\n",
       " 'A14',\n",
       " 'A15',\n",
       " 'A16',\n",
       " 'A17',\n",
       " 'A18',\n",
       " 'A19',\n",
       " 'A20',\n",
       " 'A21',\n",
       " 'A22',\n",
       " 'A23',\n",
       " 'A24',\n",
       " 'A25',\n",
       " 'A26',\n",
       " 'A27',\n",
       " 'A28',\n",
       " 'A30',\n",
       " 'A31',\n",
       " 'A33',\n",
       " 'A35',\n",
       " 'A36',\n",
       " 'A37',\n",
       " 'A38',\n",
       " 'A39',\n",
       " 'A40',\n",
       " 'A41',\n",
       " 'A42',\n",
       " 'A44',\n",
       " 'A45',\n",
       " 'A46',\n",
       " 'A47',\n",
       " 'A48',\n",
       " 'A49',\n",
       " 'A50',\n",
       " 'A51',\n",
       " 'A52',\n",
       " 'A53',\n",
       " 'A54',\n",
       " 'A56',\n",
       " 'A57',\n",
       " 'A58',\n",
       " 'A59',\n",
       " 'A60',\n",
       " 'A61',\n",
       " 'A62',\n",
       " 'A69',\n",
       " 'A70',\n",
       " 'A71',\n",
       " 'A96',\n",
       " 'A99']"
      ]
     },
     "execution_count": 25,
     "metadata": {},
     "output_type": "execute_result"
    }
   ],
   "source": [
    "print(\"Below customers are spending more than 90% limit:\")\n",
    "list(df_customer_spend[df_customer_spend['Spending Limit Percentage']>90]['Customer'])"
   ]
  },
  {
   "cell_type": "markdown",
   "id": "06830602",
   "metadata": {},
   "source": [
    "f. Which city has the maximum number of spenders, each month? Is there a need to run\n",
    "campaigns in specific cities?\n"
   ]
  },
  {
   "cell_type": "code",
   "execution_count": 47,
   "id": "026d94ee",
   "metadata": {},
   "outputs": [
    {
     "name": "stdout",
     "output_type": "stream",
     "text": [
      "<class 'pandas.core.frame.DataFrame'>\n",
      "Int64Index: 100 entries, 0 to 99\n",
      "Data columns (total 10 columns):\n",
      " #   Column                     Non-Null Count  Dtype  \n",
      "---  ------                     --------------  -----  \n",
      " 0   No                         100 non-null    int64  \n",
      " 1   Customer                   100 non-null    object \n",
      " 2   Age                        100 non-null    int64  \n",
      " 3   City                       100 non-null    object \n",
      " 4   Product                    100 non-null    object \n",
      " 5   Limit                      100 non-null    int64  \n",
      " 6   Company                    100 non-null    object \n",
      " 7   Segment                    100 non-null    object \n",
      " 8   Amount_spend               100 non-null    float64\n",
      " 9   Spending Limit Percentage  100 non-null    float64\n",
      "dtypes: float64(2), int64(3), object(5)\n",
      "memory usage: 8.6+ KB\n"
     ]
    }
   ],
   "source": [
    "df_spend['month_name']=pd.DatetimeIndex(df_spend['Month']).month_name()\n",
    "df_customer_spend.info()"
   ]
  },
  {
   "cell_type": "code",
   "execution_count": 48,
   "id": "1a3a70d9",
   "metadata": {},
   "outputs": [
    {
     "data": {
      "text/plain": [
       "0        January\n",
       "1        January\n",
       "2        January\n",
       "3        January\n",
       "4        January\n",
       "          ...   \n",
       "1495    February\n",
       "1496       March\n",
       "1497       March\n",
       "1498       March\n",
       "1499       March\n",
       "Name: month_name, Length: 1500, dtype: object"
      ]
     },
     "execution_count": 48,
     "metadata": {},
     "output_type": "execute_result"
    }
   ],
   "source": [
    "df_spend['month_name']"
   ]
  },
  {
   "cell_type": "code",
   "execution_count": 55,
   "id": "58f501ca",
   "metadata": {},
   "outputs": [],
   "source": [
    "df_customer_city = pd.merge(df_customer,df_spend,how='inner',on='Customer')"
   ]
  },
  {
   "cell_type": "code",
   "execution_count": 56,
   "id": "f7f618d8",
   "metadata": {},
   "outputs": [
    {
     "data": {
      "text/html": [
       "<div>\n",
       "<style scoped>\n",
       "    .dataframe tbody tr th:only-of-type {\n",
       "        vertical-align: middle;\n",
       "    }\n",
       "\n",
       "    .dataframe tbody tr th {\n",
       "        vertical-align: top;\n",
       "    }\n",
       "\n",
       "    .dataframe thead th {\n",
       "        text-align: right;\n",
       "    }\n",
       "</style>\n",
       "<table border=\"1\" class=\"dataframe\">\n",
       "  <thead>\n",
       "    <tr style=\"text-align: right;\">\n",
       "      <th></th>\n",
       "      <th>No</th>\n",
       "      <th>Customer</th>\n",
       "      <th>Age</th>\n",
       "      <th>City</th>\n",
       "      <th>Product</th>\n",
       "      <th>Limit</th>\n",
       "      <th>Company</th>\n",
       "      <th>Segment</th>\n",
       "      <th>Sl No:</th>\n",
       "      <th>Month</th>\n",
       "      <th>Type</th>\n",
       "      <th>Amount</th>\n",
       "      <th>month_s</th>\n",
       "      <th>year_s</th>\n",
       "      <th>month_year</th>\n",
       "      <th>month_name</th>\n",
       "    </tr>\n",
       "  </thead>\n",
       "  <tbody>\n",
       "    <tr>\n",
       "      <th>0</th>\n",
       "      <td>1</td>\n",
       "      <td>A1</td>\n",
       "      <td>47</td>\n",
       "      <td>BANGALORE</td>\n",
       "      <td>Gold</td>\n",
       "      <td>1500000</td>\n",
       "      <td>C1</td>\n",
       "      <td>Self Employed</td>\n",
       "      <td>1</td>\n",
       "      <td>2004-01-12</td>\n",
       "      <td>JEWELLERY</td>\n",
       "      <td>344,054.98</td>\n",
       "      <td>January</td>\n",
       "      <td>2004</td>\n",
       "      <td>1_2004</td>\n",
       "      <td>January</td>\n",
       "    </tr>\n",
       "    <tr>\n",
       "      <th>1</th>\n",
       "      <td>1</td>\n",
       "      <td>A1</td>\n",
       "      <td>47</td>\n",
       "      <td>BANGALORE</td>\n",
       "      <td>Gold</td>\n",
       "      <td>1500000</td>\n",
       "      <td>C1</td>\n",
       "      <td>Self Employed</td>\n",
       "      <td>2</td>\n",
       "      <td>2004-01-03</td>\n",
       "      <td>PETRO</td>\n",
       "      <td>935.50</td>\n",
       "      <td>January</td>\n",
       "      <td>2004</td>\n",
       "      <td>1_2004</td>\n",
       "      <td>January</td>\n",
       "    </tr>\n",
       "    <tr>\n",
       "      <th>2</th>\n",
       "      <td>1</td>\n",
       "      <td>A1</td>\n",
       "      <td>47</td>\n",
       "      <td>BANGALORE</td>\n",
       "      <td>Gold</td>\n",
       "      <td>1500000</td>\n",
       "      <td>C1</td>\n",
       "      <td>Self Employed</td>\n",
       "      <td>3</td>\n",
       "      <td>2004-01-15</td>\n",
       "      <td>CLOTHES</td>\n",
       "      <td>8,687.90</td>\n",
       "      <td>January</td>\n",
       "      <td>2004</td>\n",
       "      <td>1_2004</td>\n",
       "      <td>January</td>\n",
       "    </tr>\n",
       "    <tr>\n",
       "      <th>3</th>\n",
       "      <td>1</td>\n",
       "      <td>A1</td>\n",
       "      <td>47</td>\n",
       "      <td>BANGALORE</td>\n",
       "      <td>Gold</td>\n",
       "      <td>1500000</td>\n",
       "      <td>C1</td>\n",
       "      <td>Self Employed</td>\n",
       "      <td>4</td>\n",
       "      <td>2004-01-25</td>\n",
       "      <td>FOOD</td>\n",
       "      <td>341.16</td>\n",
       "      <td>January</td>\n",
       "      <td>2004</td>\n",
       "      <td>1_2004</td>\n",
       "      <td>January</td>\n",
       "    </tr>\n",
       "    <tr>\n",
       "      <th>4</th>\n",
       "      <td>1</td>\n",
       "      <td>A1</td>\n",
       "      <td>47</td>\n",
       "      <td>BANGALORE</td>\n",
       "      <td>Gold</td>\n",
       "      <td>1500000</td>\n",
       "      <td>C1</td>\n",
       "      <td>Self Employed</td>\n",
       "      <td>5</td>\n",
       "      <td>2005-01-17</td>\n",
       "      <td>CAMERA</td>\n",
       "      <td>3,406.64</td>\n",
       "      <td>January</td>\n",
       "      <td>2005</td>\n",
       "      <td>1_2005</td>\n",
       "      <td>January</td>\n",
       "    </tr>\n",
       "  </tbody>\n",
       "</table>\n",
       "</div>"
      ],
      "text/plain": [
       "   No Customer  Age       City Product    Limit Company        Segment  \\\n",
       "0   1       A1   47  BANGALORE    Gold  1500000      C1  Self Employed   \n",
       "1   1       A1   47  BANGALORE    Gold  1500000      C1  Self Employed   \n",
       "2   1       A1   47  BANGALORE    Gold  1500000      C1  Self Employed   \n",
       "3   1       A1   47  BANGALORE    Gold  1500000      C1  Self Employed   \n",
       "4   1       A1   47  BANGALORE    Gold  1500000      C1  Self Employed   \n",
       "\n",
       "   Sl No:      Month       Type     Amount  month_s  year_s month_year  \\\n",
       "0       1 2004-01-12  JEWELLERY 344,054.98  January    2004     1_2004   \n",
       "1       2 2004-01-03      PETRO     935.50  January    2004     1_2004   \n",
       "2       3 2004-01-15    CLOTHES   8,687.90  January    2004     1_2004   \n",
       "3       4 2004-01-25       FOOD     341.16  January    2004     1_2004   \n",
       "4       5 2005-01-17     CAMERA   3,406.64  January    2005     1_2005   \n",
       "\n",
       "  month_name  \n",
       "0    January  \n",
       "1    January  \n",
       "2    January  \n",
       "3    January  \n",
       "4    January  "
      ]
     },
     "execution_count": 56,
     "metadata": {},
     "output_type": "execute_result"
    }
   ],
   "source": [
    "df_customer_city.head()"
   ]
  },
  {
   "cell_type": "code",
   "execution_count": 64,
   "id": "1a637f7f",
   "metadata": {},
   "outputs": [],
   "source": [
    "by_city_spenders = df_customer_city.groupby(['month_name','City'])['Customer'].count()"
   ]
  },
  {
   "cell_type": "code",
   "execution_count": 73,
   "id": "630d0b23",
   "metadata": {},
   "outputs": [
    {
     "name": "stdout",
     "output_type": "stream",
     "text": [
      "City with maximum spenders by month\n"
     ]
    },
    {
     "data": {
      "text/plain": [
       "month_name\n",
       "April           COCHIN\n",
       "August        CALCUTTA\n",
       "December     BANGALORE\n",
       "February     BANGALORE\n",
       "January         COCHIN\n",
       "July         BANGALORE\n",
       "June          CALCUTTA\n",
       "March        BANGALORE\n",
       "May          BANGALORE\n",
       "November        BOMBAY\n",
       "October      BANGALORE\n",
       "September       COCHIN\n",
       "dtype: object"
      ]
     },
     "execution_count": 73,
     "metadata": {},
     "output_type": "execute_result"
    }
   ],
   "source": [
    "print('City with maximum spenders by month')\n",
    "by_city_spenders.unstack().idxmax(axis=1)"
   ]
  },
  {
   "cell_type": "code",
   "execution_count": 78,
   "id": "3494e227",
   "metadata": {},
   "outputs": [
    {
     "name": "stdout",
     "output_type": "stream",
     "text": [
      "City with minimum spenders by month\n"
     ]
    },
    {
     "data": {
      "text/plain": [
       "{'CHENNAI', 'DELHI', 'PATNA', 'TRIVANDRUM'}"
      ]
     },
     "execution_count": 78,
     "metadata": {},
     "output_type": "execute_result"
    }
   ],
   "source": [
    "print('City with minimum spenders')\n",
    "set(by_city_spenders.unstack().idxmin(axis=1).values)"
   ]
  },
  {
   "cell_type": "markdown",
   "id": "68268aab",
   "metadata": {},
   "source": [
    "Above cities have minimum spenders hence would need to run campign on these cities"
   ]
  },
  {
   "cell_type": "markdown",
   "id": "c82c703f",
   "metadata": {},
   "source": [
    "g. Which age group spends the most?"
   ]
  },
  {
   "cell_type": "code",
   "execution_count": 89,
   "id": "5d0bf94a",
   "metadata": {},
   "outputs": [
    {
     "data": {
      "text/html": [
       "<div>\n",
       "<style scoped>\n",
       "    .dataframe tbody tr th:only-of-type {\n",
       "        vertical-align: middle;\n",
       "    }\n",
       "\n",
       "    .dataframe tbody tr th {\n",
       "        vertical-align: top;\n",
       "    }\n",
       "\n",
       "    .dataframe thead th {\n",
       "        text-align: right;\n",
       "    }\n",
       "</style>\n",
       "<table border=\"1\" class=\"dataframe\">\n",
       "  <thead>\n",
       "    <tr style=\"text-align: right;\">\n",
       "      <th></th>\n",
       "      <th>No</th>\n",
       "      <th>Customer</th>\n",
       "      <th>Age</th>\n",
       "      <th>City</th>\n",
       "      <th>Product</th>\n",
       "      <th>Limit</th>\n",
       "      <th>Company</th>\n",
       "      <th>Segment</th>\n",
       "      <th>Amount_spend</th>\n",
       "      <th>Spending Limit Percentage</th>\n",
       "      <th>age_group</th>\n",
       "    </tr>\n",
       "  </thead>\n",
       "  <tbody>\n",
       "    <tr>\n",
       "      <th>88</th>\n",
       "      <td>89</td>\n",
       "      <td>A89</td>\n",
       "      <td>74</td>\n",
       "      <td>CALCUTTA</td>\n",
       "      <td>Gold</td>\n",
       "      <td>500000</td>\n",
       "      <td>C12</td>\n",
       "      <td>Govt</td>\n",
       "      <td>69,396.31</td>\n",
       "      <td>13.88</td>\n",
       "      <td>71-80</td>\n",
       "    </tr>\n",
       "    <tr>\n",
       "      <th>34</th>\n",
       "      <td>35</td>\n",
       "      <td>A35</td>\n",
       "      <td>38</td>\n",
       "      <td>COCHIN</td>\n",
       "      <td>Platimum</td>\n",
       "      <td>600006</td>\n",
       "      <td>C17</td>\n",
       "      <td>Govt</td>\n",
       "      <td>747,883.12</td>\n",
       "      <td>124.65</td>\n",
       "      <td>31-40</td>\n",
       "    </tr>\n",
       "    <tr>\n",
       "      <th>60</th>\n",
       "      <td>61</td>\n",
       "      <td>A61</td>\n",
       "      <td>63</td>\n",
       "      <td>COCHIN</td>\n",
       "      <td>Gold</td>\n",
       "      <td>1500000</td>\n",
       "      <td>C23</td>\n",
       "      <td>Govt</td>\n",
       "      <td>4,113,751.63</td>\n",
       "      <td>274.25</td>\n",
       "      <td>61-70</td>\n",
       "    </tr>\n",
       "    <tr>\n",
       "      <th>50</th>\n",
       "      <td>51</td>\n",
       "      <td>A51</td>\n",
       "      <td>39</td>\n",
       "      <td>BOMBAY</td>\n",
       "      <td>Platimum</td>\n",
       "      <td>300003</td>\n",
       "      <td>C13</td>\n",
       "      <td>Govt</td>\n",
       "      <td>567,223.60</td>\n",
       "      <td>189.07</td>\n",
       "      <td>31-40</td>\n",
       "    </tr>\n",
       "    <tr>\n",
       "      <th>45</th>\n",
       "      <td>46</td>\n",
       "      <td>A46</td>\n",
       "      <td>29</td>\n",
       "      <td>PATNA</td>\n",
       "      <td>Silver</td>\n",
       "      <td>600000</td>\n",
       "      <td>C8</td>\n",
       "      <td>Govt</td>\n",
       "      <td>1,722,370.98</td>\n",
       "      <td>287.06</td>\n",
       "      <td>18-30</td>\n",
       "    </tr>\n",
       "    <tr>\n",
       "      <th>16</th>\n",
       "      <td>17</td>\n",
       "      <td>A17</td>\n",
       "      <td>26</td>\n",
       "      <td>BOMBAY</td>\n",
       "      <td>Gold</td>\n",
       "      <td>500000</td>\n",
       "      <td>C17</td>\n",
       "      <td>Self Employed</td>\n",
       "      <td>653,450.66</td>\n",
       "      <td>130.69</td>\n",
       "      <td>18-30</td>\n",
       "    </tr>\n",
       "    <tr>\n",
       "      <th>4</th>\n",
       "      <td>5</td>\n",
       "      <td>A5</td>\n",
       "      <td>59</td>\n",
       "      <td>BANGALORE</td>\n",
       "      <td>Platimum</td>\n",
       "      <td>420084</td>\n",
       "      <td>C5</td>\n",
       "      <td>Normal Salary</td>\n",
       "      <td>923,534.79</td>\n",
       "      <td>219.85</td>\n",
       "      <td>51-60</td>\n",
       "    </tr>\n",
       "    <tr>\n",
       "      <th>0</th>\n",
       "      <td>1</td>\n",
       "      <td>A1</td>\n",
       "      <td>47</td>\n",
       "      <td>BANGALORE</td>\n",
       "      <td>Gold</td>\n",
       "      <td>1500000</td>\n",
       "      <td>C1</td>\n",
       "      <td>Self Employed</td>\n",
       "      <td>2,202,653.18</td>\n",
       "      <td>146.84</td>\n",
       "      <td>41-50</td>\n",
       "    </tr>\n",
       "    <tr>\n",
       "      <th>14</th>\n",
       "      <td>15</td>\n",
       "      <td>A15</td>\n",
       "      <td>41</td>\n",
       "      <td>CALCUTTA</td>\n",
       "      <td>Gold</td>\n",
       "      <td>500000</td>\n",
       "      <td>C15</td>\n",
       "      <td>Govt</td>\n",
       "      <td>832,219.37</td>\n",
       "      <td>166.44</td>\n",
       "      <td>41-50</td>\n",
       "    </tr>\n",
       "    <tr>\n",
       "      <th>44</th>\n",
       "      <td>45</td>\n",
       "      <td>A45</td>\n",
       "      <td>65</td>\n",
       "      <td>COCHIN</td>\n",
       "      <td>Gold</td>\n",
       "      <td>1500000</td>\n",
       "      <td>C7</td>\n",
       "      <td>Salaried_Pvt</td>\n",
       "      <td>1,645,941.65</td>\n",
       "      <td>109.73</td>\n",
       "      <td>61-70</td>\n",
       "    </tr>\n",
       "  </tbody>\n",
       "</table>\n",
       "</div>"
      ],
      "text/plain": [
       "    No Customer  Age       City   Product    Limit Company        Segment  \\\n",
       "88  89      A89   74   CALCUTTA      Gold   500000     C12           Govt   \n",
       "34  35      A35   38     COCHIN  Platimum   600006     C17           Govt   \n",
       "60  61      A61   63     COCHIN      Gold  1500000     C23           Govt   \n",
       "50  51      A51   39     BOMBAY  Platimum   300003     C13           Govt   \n",
       "45  46      A46   29      PATNA    Silver   600000      C8           Govt   \n",
       "16  17      A17   26     BOMBAY      Gold   500000     C17  Self Employed   \n",
       "4    5       A5   59  BANGALORE  Platimum   420084      C5  Normal Salary   \n",
       "0    1       A1   47  BANGALORE      Gold  1500000      C1  Self Employed   \n",
       "14  15      A15   41   CALCUTTA      Gold   500000     C15           Govt   \n",
       "44  45      A45   65     COCHIN      Gold  1500000      C7   Salaried_Pvt   \n",
       "\n",
       "    Amount_spend  Spending Limit Percentage age_group  \n",
       "88     69,396.31                      13.88     71-80  \n",
       "34    747,883.12                     124.65     31-40  \n",
       "60  4,113,751.63                     274.25     61-70  \n",
       "50    567,223.60                     189.07     31-40  \n",
       "45  1,722,370.98                     287.06     18-30  \n",
       "16    653,450.66                     130.69     18-30  \n",
       "4     923,534.79                     219.85     51-60  \n",
       "0   2,202,653.18                     146.84     41-50  \n",
       "14    832,219.37                     166.44     41-50  \n",
       "44  1,645,941.65                     109.73     61-70  "
      ]
     },
     "execution_count": 89,
     "metadata": {},
     "output_type": "execute_result"
    }
   ],
   "source": [
    "bins=[0,30,40,50,60,70,80]\n",
    "age_group = ['18-30','31-40','41-50','51-60','61-70','71-80']\n",
    "df_customer_spend['age_group'] = pd.cut(x=df_customer_spend['Age'],\n",
    "                     bins=bins,\n",
    "                     labels=age_group)\n",
    "df_customer_spend.sample(10)"
   ]
  },
  {
   "cell_type": "code",
   "execution_count": 91,
   "id": "9d320a0b",
   "metadata": {},
   "outputs": [
    {
     "name": "stdout",
     "output_type": "stream",
     "text": [
      "The age group which spends the most is  61-70\n"
     ]
    }
   ],
   "source": [
    "print(\"The age group which spends the most is \",df_customer_spend.groupby(['age_group'])['Amount_spend'].sum().idxmax())"
   ]
  },
  {
   "cell_type": "code",
   "execution_count": null,
   "id": "ec68420c",
   "metadata": {},
   "outputs": [],
   "source": []
  }
 ],
 "metadata": {
  "kernelspec": {
   "display_name": "Python 3 (ipykernel)",
   "language": "python",
   "name": "python3"
  },
  "language_info": {
   "codemirror_mode": {
    "name": "ipython",
    "version": 3
   },
   "file_extension": ".py",
   "mimetype": "text/x-python",
   "name": "python",
   "nbconvert_exporter": "python",
   "pygments_lexer": "ipython3",
   "version": "3.8.8"
  }
 },
 "nbformat": 4,
 "nbformat_minor": 5
}
